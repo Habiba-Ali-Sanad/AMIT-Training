{
 "cells": [
  {
   "cell_type": "code",
   "execution_count": 5,
   "id": "9d97744e",
   "metadata": {},
   "outputs": [
    {
     "name": "stdout",
     "output_type": "stream",
     "text": [
      "Habiba Ali \n"
     ]
    }
   ],
   "source": [
    "class Base:\n",
    "    def __init__(self):\n",
    "        self.a = \"Habiba Ali \"\n",
    "        self.__c = \"Sanad\"\n",
    "# Creating a derived class\n",
    "class Derived(Base):\n",
    "    def __init__(self):\n",
    "        # Calling constructor of\n",
    "        # Base class\n",
    "        Base.__init__(self)\n",
    "        print(\"private member: \")\n",
    "        print(self.__c)\n",
    "# Driver code\n",
    "class1 = Base()\n",
    "print(class1.a)"
   ]
  },
  {
   "cell_type": "code",
   "execution_count": 10,
   "id": "a7c3251f",
   "metadata": {},
   "outputs": [
    {
     "name": "stdout",
     "output_type": "stream",
     "text": [
      "True\n",
      "True\n"
     ]
    }
   ],
   "source": [
    "#creat basic class\n",
    "class parent:      \n",
    "    def func1(self):\n",
    "        pass\n",
    "#creat class dependent in basic class \n",
    "class child(parent):\n",
    "    def func2(self):\n",
    "        print(\"child class\")\n",
    "# Driver code\n",
    "print( issubclass(child, parent)) \n",
    "print( isinstance(child(), parent))"
   ]
  },
  {
   "cell_type": "code",
   "execution_count": 21,
   "id": "82f02871",
   "metadata": {},
   "outputs": [
    {
     "name": "stdout",
     "output_type": "stream",
     "text": [
      "my color vehicle is:white\n",
      "driving with speed car:100\n"
     ]
    }
   ],
   "source": [
    "#basic class \n",
    "class vehicle():\n",
    "    #init func \n",
    "    def __init__(self,speed,color):\n",
    "        self.color=color\n",
    "        self.speed=speed\n",
    "    #color func \n",
    "    def what_color(self):\n",
    "        print('my color vehicle is:'+self.color)\n",
    "    #speed func\n",
    "    def drive(self):\n",
    "        print('driving with speed:'+str(self.speed))\n",
    "#class indepent\n",
    "class car(vehicle):\n",
    "    #drive func\n",
    "    def drive(self):\n",
    "         print('driving with speed car:'+str(self.speed))\n",
    "mitsupishi= car(100,'red')\n",
    "hundai=vehicle(20,'white')\n",
    "hundai.what_color()\n",
    "mitsupishi.drive()"
   ]
  },
  {
   "cell_type": "code",
   "execution_count": null,
   "id": "644fa6fd",
   "metadata": {},
   "outputs": [],
   "source": []
  }
 ],
 "metadata": {
  "kernelspec": {
   "display_name": "Python 3 (ipykernel)",
   "language": "python",
   "name": "python3"
  },
  "language_info": {
   "codemirror_mode": {
    "name": "ipython",
    "version": 3
   },
   "file_extension": ".py",
   "mimetype": "text/x-python",
   "name": "python",
   "nbconvert_exporter": "python",
   "pygments_lexer": "ipython3",
   "version": "3.9.12"
  }
 },
 "nbformat": 4,
 "nbformat_minor": 5
}
