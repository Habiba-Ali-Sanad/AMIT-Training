{
 "cells": [
  {
   "cell_type": "markdown",
   "metadata": {
    "collapsed": true
   },
   "source": [
    "# QUIZ\n",
    "Let's test your knowledge!"
   ]
  },
  {
   "cell_type": "markdown",
   "metadata": {},
   "source": [
    "_____\n",
    "**Use <code>for</code>, .split(), and <code>if</code> to create a Statement that will print out words that start with 's':**"
   ]
  },
  {
   "cell_type": "code",
   "execution_count": 2,
   "metadata": {},
   "outputs": [],
   "source": [
    "st = 'Print only the words that start with s in this sentence'"
   ]
  },
  {
   "cell_type": "code",
   "execution_count": 3,
   "metadata": {},
   "outputs": [
    {
     "name": "stdout",
     "output_type": "stream",
     "text": [
      "start\n",
      "s\n",
      "sentence\n"
     ]
    }
   ],
   "source": [
    "#Code here\n",
    "for num in st.split(): #loop for st words by split\n",
    "    if num[0]=='s': # first letter equal 's'\n",
    "        print(num) #print all words have fisrt letter 's'"
   ]
  },
  {
   "cell_type": "markdown",
   "metadata": {},
   "source": [
    "______\n",
    "**Use range() to print all the even numbers from 0 to 10.**"
   ]
  },
  {
   "cell_type": "code",
   "execution_count": 5,
   "metadata": {},
   "outputs": [
    {
     "name": "stdout",
     "output_type": "stream",
     "text": [
      "0\n",
      "2\n",
      "4\n",
      "6\n",
      "8\n",
      "10\n"
     ]
    }
   ],
   "source": [
    "for num in range (0,11): # loop from 0 to 10\n",
    "    if num % 2==0: # num is even \n",
    "        print(num) #print all even num "
   ]
  },
  {
   "cell_type": "markdown",
   "metadata": {},
   "source": [
    "___\n",
    "**Use a List Comprehension to create a list of all numbers between 1 and 50 that are divisible by 3.**"
   ]
  },
  {
   "cell_type": "code",
   "execution_count": 6,
   "metadata": {},
   "outputs": [
    {
     "data": {
      "text/plain": [
       "[3, 6, 9, 12, 15, 18, 21, 24, 27, 30, 33, 36, 39, 42, 45, 48]"
      ]
     },
     "execution_count": 6,
     "metadata": {},
     "output_type": "execute_result"
    }
   ],
   "source": [
    "#Code Here\n",
    "list1=[num for num in range(1,51) if num % 3 ==0] #list of range num from 1 to 50 and divisible by 3\n",
    "list1 #print all num divisible by 3"
   ]
  },
  {
   "cell_type": "markdown",
   "metadata": {},
   "source": [
    "_____\n",
    "**Go through the string below and if the length of a word is even print \"even!\"**"
   ]
  },
  {
   "cell_type": "code",
   "execution_count": null,
   "metadata": {},
   "outputs": [],
   "source": [
    "st = 'Print every word in this sentence that has an even number of letters'"
   ]
  },
  {
   "cell_type": "code",
   "execution_count": 7,
   "metadata": {},
   "outputs": [
    {
     "name": "stdout",
     "output_type": "stream",
     "text": [
      "only even!\n",
      "that even!\n",
      "with even!\n",
      "in even!\n",
      "this even!\n",
      "sentence even!\n"
     ]
    }
   ],
   "source": [
    "#Code in this cell\n",
    "for let in st.split(): #loop in st words  \n",
    "    if len(let) % 2 ==0: # length of word is even \n",
    "        print('{} even!'.format(let)) #print word and is even"
   ]
  },
  {
   "cell_type": "markdown",
   "metadata": {},
   "source": [
    "____\n",
    "**Write a program that prints the integers from 1 to 100. But for multiples of three print \"Fizz\" instead of the number, and for the multiples of five print \"Buzz\". For numbers which are multiples of both three and five print \"FizzBuzz\".**"
   ]
  },
  {
   "cell_type": "code",
   "execution_count": 10,
   "metadata": {},
   "outputs": [
    {
     "name": "stdout",
     "output_type": "stream",
     "text": [
      "\"Not\"\n",
      "\"Not\"\n",
      "\"fizz\"\n",
      "\"Not\"\n",
      "\"Buzz\"\n",
      "\"fizz\"\n",
      "\"Not\"\n",
      "\"Not\"\n",
      "\"fizz\"\n",
      "\"Buzz\"\n",
      "\"Not\"\n",
      "\"fizz\"\n",
      "\"Not\"\n",
      "\"Not\"\n",
      "\"FizzBuzz\"\n",
      "\"Not\"\n",
      "\"Not\"\n",
      "\"fizz\"\n",
      "\"Not\"\n",
      "\"Buzz\"\n",
      "\"fizz\"\n",
      "\"Not\"\n",
      "\"Not\"\n",
      "\"fizz\"\n",
      "\"Buzz\"\n",
      "\"Not\"\n",
      "\"fizz\"\n",
      "\"Not\"\n",
      "\"Not\"\n",
      "\"FizzBuzz\"\n",
      "\"Not\"\n",
      "\"Not\"\n",
      "\"fizz\"\n",
      "\"Not\"\n",
      "\"Buzz\"\n",
      "\"fizz\"\n",
      "\"Not\"\n",
      "\"Not\"\n",
      "\"fizz\"\n",
      "\"Buzz\"\n",
      "\"Not\"\n",
      "\"fizz\"\n",
      "\"Not\"\n",
      "\"Not\"\n",
      "\"FizzBuzz\"\n",
      "\"Not\"\n",
      "\"Not\"\n",
      "\"fizz\"\n",
      "\"Not\"\n",
      "\"Buzz\"\n",
      "\"fizz\"\n",
      "\"Not\"\n",
      "\"Not\"\n",
      "\"fizz\"\n",
      "\"Buzz\"\n",
      "\"Not\"\n",
      "\"fizz\"\n",
      "\"Not\"\n",
      "\"Not\"\n",
      "\"FizzBuzz\"\n",
      "\"Not\"\n",
      "\"Not\"\n",
      "\"fizz\"\n",
      "\"Not\"\n",
      "\"Buzz\"\n",
      "\"fizz\"\n",
      "\"Not\"\n",
      "\"Not\"\n",
      "\"fizz\"\n",
      "\"Buzz\"\n",
      "\"Not\"\n",
      "\"fizz\"\n",
      "\"Not\"\n",
      "\"Not\"\n",
      "\"FizzBuzz\"\n",
      "\"Not\"\n",
      "\"Not\"\n",
      "\"fizz\"\n",
      "\"Not\"\n",
      "\"Buzz\"\n",
      "\"fizz\"\n",
      "\"Not\"\n",
      "\"Not\"\n",
      "\"fizz\"\n",
      "\"Buzz\"\n",
      "\"Not\"\n",
      "\"fizz\"\n",
      "\"Not\"\n",
      "\"Not\"\n",
      "\"FizzBuzz\"\n",
      "\"Not\"\n",
      "\"Not\"\n",
      "\"fizz\"\n",
      "\"Not\"\n",
      "\"Buzz\"\n",
      "\"fizz\"\n",
      "\"Not\"\n",
      "\"Not\"\n",
      "\"fizz\"\n",
      "\"Buzz\"\n"
     ]
    }
   ],
   "source": [
    "#Code in this cell\n",
    "for num in range(1,101): #loop range from 0 to 100\n",
    "    if num%3==0 and num%5==0: # num multiples of 3 and 5 \n",
    "        print('\"FizzBuzz\"') #print this word \n",
    "    elif num%3==0: # num multiples of 3\n",
    "        print('\"fizz\"') #print this word \n",
    "    elif num%5==0: # num multiples of 5\n",
    "        print('\"Buzz\"') #print this word \n",
    "    else: #if not one of them \n",
    "        print('\"Not\"') #print this word "
   ]
  },
  {
   "cell_type": "markdown",
   "metadata": {},
   "source": [
    "____\n",
    "**Use List Comprehension to create a list of the first letters of every word in the string below:**"
   ]
  },
  {
   "cell_type": "code",
   "execution_count": 12,
   "metadata": {},
   "outputs": [],
   "source": [
    "st = 'Create a list of the first letters of every word in this string'"
   ]
  },
  {
   "cell_type": "code",
   "execution_count": 15,
   "metadata": {},
   "outputs": [
    {
     "data": {
      "text/plain": [
       "['C', 'a', 'l', 'o', 't', 'f', 'l', 'o', 'e', 'w', 'i', 't', 's']"
      ]
     },
     "execution_count": 15,
     "metadata": {},
     "output_type": "execute_result"
    }
   ],
   "source": [
    "#Code in this cell\n",
    "list1=[let[0] for let in st.split() ] #list of st words by split and first letter in all words \n",
    "list1 #print list"
   ]
  },
  {
   "cell_type": "markdown",
   "metadata": {},
   "source": [
    "### Great Job!"
   ]
  }
 ],
 "metadata": {
  "kernelspec": {
   "display_name": "Python 3 (ipykernel)",
   "language": "python",
   "name": "python3"
  },
  "language_info": {
   "codemirror_mode": {
    "name": "ipython",
    "version": 3
   },
   "file_extension": ".py",
   "mimetype": "text/x-python",
   "name": "python",
   "nbconvert_exporter": "python",
   "pygments_lexer": "ipython3",
   "version": "3.9.12"
  }
 },
 "nbformat": 4,
 "nbformat_minor": 1
}
