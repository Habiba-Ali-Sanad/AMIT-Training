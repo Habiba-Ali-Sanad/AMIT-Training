{
 "cells": [
  {
   "cell_type": "code",
   "execution_count": 5,
   "id": "af827131",
   "metadata": {},
   "outputs": [
    {
     "name": "stdout",
     "output_type": "stream",
     "text": [
      "Enter your first nameHabiba\n",
      "Enter your last nameAli\n",
      "enter your genderFemale\n",
      "enter 3 num of your id112\n",
      "first name: Habiba \t last name: Ali \t gender: Female \t id: 112\n"
     ]
    }
   ],
   "source": [
    "#func to print data \n",
    "def listt(first_name,last_name,gender,iD):\n",
    "    print('first name: {} \\t last name: {} \\t gender: {} \\t id: {}'.format(first_name,last_name,gender,iD))\n",
    "#parameters input \n",
    "a=input('Enter your first name')\n",
    "b=input('Enter your last name')\n",
    "c=input('enter your gender')\n",
    "d=input('enter 3 num of your id')\n",
    "#condition to id must have 3 numbers only \n",
    "if len(d)==3:\n",
    "    listt(a,b,c,d)\n",
    "#if not have 3 num get this message \n",
    "else:\n",
    "    print('please enter 3 num ')"
   ]
  },
  {
   "cell_type": "code",
   "execution_count": null,
   "id": "92119e65",
   "metadata": {},
   "outputs": [],
   "source": []
  }
 ],
 "metadata": {
  "kernelspec": {
   "display_name": "Python 3 (ipykernel)",
   "language": "python",
   "name": "python3"
  },
  "language_info": {
   "codemirror_mode": {
    "name": "ipython",
    "version": 3
   },
   "file_extension": ".py",
   "mimetype": "text/x-python",
   "name": "python",
   "nbconvert_exporter": "python",
   "pygments_lexer": "ipython3",
   "version": "3.9.12"
  }
 },
 "nbformat": 4,
 "nbformat_minor": 5
}
