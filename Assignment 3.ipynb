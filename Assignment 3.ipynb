{
 "cells": [
  {
   "cell_type": "markdown",
   "metadata": {},
   "source": [
    "# Assignment 3"
   ]
  },
  {
   "cell_type": "markdown",
   "metadata": {},
   "source": [
    "### Write a function to count the number 4 in a given list."
   ]
  },
  {
   "cell_type": "code",
   "execution_count": 1,
   "metadata": {},
   "outputs": [
    {
     "data": {
      "text/plain": [
       "2"
      ]
     },
     "execution_count": 1,
     "metadata": {},
     "output_type": "execute_result"
    }
   ],
   "source": [
    "#list of numbers \n",
    "nums=[0,4,2,4]\n",
    "#func to count num 4 in list \n",
    "def count():\n",
    "    return nums.count(4) #return count num4 in list \n",
    "count() #call func"
   ]
  },
  {
   "cell_type": "markdown",
   "metadata": {},
   "source": [
    "### write a  function to check whether a number is divisible by another number."
   ]
  },
  {
   "cell_type": "code",
   "execution_count": 2,
   "metadata": {},
   "outputs": [
    {
     "data": {
      "text/plain": [
       "False"
      ]
     },
     "execution_count": 2,
     "metadata": {},
     "output_type": "execute_result"
    }
   ],
   "source": [
    "#func to check between 2 num if divisible by each other \n",
    "def check(num1,num2):\n",
    "    return num1%num2==0 #return value of check if condition true \n",
    "check(2,5) #call func by 2 num for check "
   ]
  },
  {
   "cell_type": "markdown",
   "metadata": {},
   "source": [
    "### write a function to find the maximum and minimum numbers from a sequence of numbers."
   ]
  },
  {
   "cell_type": "code",
   "execution_count": 4,
   "metadata": {},
   "outputs": [
    {
     "name": "stdout",
     "output_type": "stream",
     "text": [
      "mini num is 0 and max num is 5\n"
     ]
    }
   ],
   "source": [
    "#list of numbers\n",
    "numbers=[0,1,2,3,4,5]\n",
    "def max_min(): \n",
    "    a=min(numbers) #a is a mini num in list\n",
    "    b=max(numbers) #a is a max num in list\n",
    "    print('mini num is {} and max num is {}'.format(a,b)) \n",
    "max_min()\n"
   ]
  },
  {
   "cell_type": "markdown",
   "metadata": {},
   "source": [
    "### Write a Python function that takes two lists and returns True if they have at least one common member."
   ]
  },
  {
   "cell_type": "code",
   "execution_count": 9,
   "metadata": {},
   "outputs": [
    {
     "name": "stdout",
     "output_type": "stream",
     "text": [
      "True\n"
     ]
    }
   ],
   "source": [
    "#2 lists of num \n",
    "list1=[0,1,2,3]\n",
    "list2=[1,8,7,4]\n",
    "def common():\n",
    "    #if at list num in list1 the same in list2 print true \n",
    "    for num1 in list1:\n",
    "        for num2 in list2:\n",
    "            if num1==num2:\n",
    "                print('True')\n",
    "            break # to print one only not every time \n",
    "common()"
   ]
  },
  {
   "cell_type": "markdown",
   "metadata": {},
   "source": [
    "### Write a Python function to calculate the factorial of a number (a non-negative integer). The function accepts the number from the user"
   ]
  },
  {
   "cell_type": "code",
   "execution_count": 22,
   "metadata": {},
   "outputs": [
    {
     "name": "stdout",
     "output_type": "stream",
     "text": [
      "enter num 5\n",
      "120\n"
     ]
    }
   ],
   "source": [
    "#func to factorial positive num\n",
    "def factt():\n",
    "    num=int(input('enter num '))\n",
    "    fact = 1 #intinal value \n",
    "    if num>0: #condition for positive num \n",
    "        for i in range(1,num+1): #for loop from 1 to num\n",
    "            fact = fact * i #equation factorial \n",
    "        print(fact)\n",
    "    else:\n",
    "        print('Error')  \n",
    "factt()"
   ]
  },
  {
   "cell_type": "markdown",
   "metadata": {},
   "source": [
    "### Write a Python function to check whether a number is in a given range.\n",
    "\n",
    "### The range is from 3 to 11\n"
   ]
  },
  {
   "cell_type": "code",
   "execution_count": 12,
   "metadata": {},
   "outputs": [
    {
     "data": {
      "text/plain": [
       "True"
      ]
     },
     "execution_count": 12,
     "metadata": {},
     "output_type": "execute_result"
    }
   ],
   "source": [
    "#fun to check if num in range(3,12) or not \n",
    "def rangee(num):\n",
    "    return num in range(3,12)\n",
    "rangee(5)"
   ]
  },
  {
   "cell_type": "markdown",
   "metadata": {},
   "source": [
    "### Write a  program to create the multiplication table (from 1 to 10) of a number."
   ]
  },
  {
   "cell_type": "code",
   "execution_count": 14,
   "metadata": {},
   "outputs": [
    {
     "name": "stdout",
     "output_type": "stream",
     "text": [
      "enter num2\n",
      "2\n",
      "4\n",
      "6\n",
      "8\n",
      "10\n",
      "12\n",
      "14\n",
      "16\n",
      "18\n",
      "20\n"
     ]
    }
   ],
   "source": [
    "#input num \n",
    "number=int(input('enter num'))\n",
    "#parameter to save into data \n",
    "mul=1\n",
    "for num in range(1,11):\n",
    "    mul=num*number #multiplication table \n",
    "    print(mul)"
   ]
  },
  {
   "cell_type": "markdown",
   "metadata": {},
   "source": [
    "#### LESSER OF TWO EVENS: Write a function that returns the lesser of two given numbers *if* both numbers are even, but returns the greater if one or both numbers are odd\n",
    "    lesser_of_two_evens(2,4) --> 2\n",
    "    lesser_of_two_evens(2,5) --> 5"
   ]
  },
  {
   "cell_type": "code",
   "execution_count": 23,
   "metadata": {},
   "outputs": [
    {
     "name": "stdout",
     "output_type": "stream",
     "text": [
      "enter num1 2\n",
      "enter num2 4\n"
     ]
    },
    {
     "data": {
      "text/plain": [
       "2"
      ]
     },
     "execution_count": 23,
     "metadata": {},
     "output_type": "execute_result"
    }
   ],
   "source": [
    "#fun lesser of 2 evens\n",
    "def odd_even(num): \n",
    "    return num \n",
    "num1=int(input('enter num1 '))\n",
    "num2=int(input('enter num2 '))\n",
    "# if 2 num is even \n",
    "if num1%2==0 and num2%2==0:\n",
    "    num=min(num1,num2) #return min num \n",
    "# if 1 of them even     \n",
    "elif num1%2==0 or num2%2==0: \n",
    "    num=max(num1,num2) #return max num \n",
    "#anything other \n",
    "else:\n",
    "     num=max(num1,num2) #return max num \n",
    "odd_even(num)"
   ]
  },
  {
   "cell_type": "code",
   "execution_count": null,
   "metadata": {},
   "outputs": [],
   "source": []
  }
 ],
 "metadata": {
  "kernelspec": {
   "display_name": "Python 3 (ipykernel)",
   "language": "python",
   "name": "python3"
  },
  "language_info": {
   "codemirror_mode": {
    "name": "ipython",
    "version": 3
   },
   "file_extension": ".py",
   "mimetype": "text/x-python",
   "name": "python",
   "nbconvert_exporter": "python",
   "pygments_lexer": "ipython3",
   "version": "3.9.12"
  }
 },
 "nbformat": 4,
 "nbformat_minor": 2
}
