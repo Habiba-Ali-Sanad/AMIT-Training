{
 "cells": [
  {
   "cell_type": "code",
   "execution_count": 6,
   "id": "21ea8c37",
   "metadata": {},
   "outputs": [
    {
     "name": "stdout",
     "output_type": "stream",
     "text": [
      "Hello\n",
      "Habiba\n"
     ]
    }
   ],
   "source": [
    "#fun print multi variables\n",
    "def printt(*argv):\n",
    "    for n in argv:\n",
    "        print(n)\n",
    "    \n",
    "myFun('Hello', 'Habiba')"
   ]
  },
  {
   "cell_type": "code",
   "execution_count": 21,
   "id": "3d85bfda",
   "metadata": {},
   "outputs": [
    {
     "name": "stdout",
     "output_type": "stream",
     "text": [
      "7\n",
      "12\n"
     ]
    }
   ],
   "source": [
    "#func to add any num of numbers \n",
    "def add(*numbers):\n",
    "    total = 0\n",
    "    for num in numbers:\n",
    "        total += num\n",
    "    return total\n",
    "print(add(2, 5))\n",
    "print(add(2, 5, 5))"
   ]
  },
  {
   "cell_type": "code",
   "execution_count": 9,
   "id": "f101b10f",
   "metadata": {},
   "outputs": [
    {
     "name": "stdout",
     "output_type": "stream",
     "text": [
      "first habiba\n",
      "mid ali\n",
      "last sanad\n",
      "age 22\n"
     ]
    }
   ],
   "source": [
    "#func by **kwargs to print any num of items \n",
    "def print2(arg1, **kwargs):\n",
    "    for key, value in kwargs.items():\n",
    "        print(key, value) \n",
    "# Driver code\n",
    "print2(\"Hi\", first='habiba', mid='ali', last='sanad',age='22')"
   ]
  },
  {
   "cell_type": "code",
   "execution_count": 3,
   "id": "b0a94f2d",
   "metadata": {},
   "outputs": [
    {
     "name": "stdout",
     "output_type": "stream",
     "text": [
      "args:  ('Habiba', 'ali', 'sanad')\n",
      "kwargs:  {'first': 'Habiba', 'mid': 'Ali', 'last': 'Sanad'}\n"
     ]
    }
   ],
   "source": [
    "#func print values by args and items by kwargs\n",
    "def myFun(*args, **kwargs):\n",
    "    print(\"args: \", args)\n",
    "    print(\"kwargs: \", kwargs)  \n",
    "# to pass arguments to this function \n",
    "myFun('Habiba', 'ali', 'sanad', first=\"Habiba\", mid=\"Ali\", last=\"Sanad\")"
   ]
  },
  {
   "cell_type": "code",
   "execution_count": null,
   "id": "70b3c002",
   "metadata": {},
   "outputs": [],
   "source": []
  }
 ],
 "metadata": {
  "kernelspec": {
   "display_name": "Python 3 (ipykernel)",
   "language": "python",
   "name": "python3"
  },
  "language_info": {
   "codemirror_mode": {
    "name": "ipython",
    "version": 3
   },
   "file_extension": ".py",
   "mimetype": "text/x-python",
   "name": "python",
   "nbconvert_exporter": "python",
   "pygments_lexer": "ipython3",
   "version": "3.9.12"
  }
 },
 "nbformat": 4,
 "nbformat_minor": 5
}
