{
 "cells": [
  {
   "cell_type": "code",
   "execution_count": 1,
   "id": "2bd2dc08",
   "metadata": {},
   "outputs": [
    {
     "data": {
      "text/plain": [
       "5"
      ]
     },
     "execution_count": 1,
     "metadata": {},
     "output_type": "execute_result"
    }
   ],
   "source": [
    "numbers = [2, 8, 3, 4, 7]\n",
    "#get length of list \n",
    "numbers.__len__()"
   ]
  },
  {
   "cell_type": "code",
   "execution_count": 5,
   "id": "4525fb85",
   "metadata": {},
   "outputs": [
    {
     "data": {
      "text/plain": [
       "4"
      ]
     },
     "execution_count": 5,
     "metadata": {},
     "output_type": "execute_result"
    }
   ],
   "source": [
    "#get item from index \n",
    "numbers.__getitem__(3)"
   ]
  },
  {
   "cell_type": "code",
   "execution_count": 6,
   "id": "f54422ac",
   "metadata": {},
   "outputs": [
    {
     "data": {
      "text/plain": [
       "3"
      ]
     },
     "execution_count": 6,
     "metadata": {},
     "output_type": "execute_result"
    }
   ],
   "source": [
    "#add 2 num \n",
    "x=1\n",
    "y=2\n",
    "x.__add__(y)"
   ]
  },
  {
   "cell_type": "code",
   "execution_count": 16,
   "id": "6118cd4a",
   "metadata": {},
   "outputs": [
    {
     "name": "stdout",
     "output_type": "stream",
     "text": [
      "Hello my name is Habiba\n",
      "Age : 22\n"
     ]
    }
   ],
   "source": [
    "#class have some func\n",
    "class data:\n",
    "    #init data \n",
    "    def __init__(self, name, age):\n",
    "        self.name = name\n",
    "        self.age = age\n",
    "    # func to get name's self \n",
    "    def myname(self):\n",
    "        print(\"Hello my name is \" + self.name)\n",
    "    #func to get age's self  \n",
    "    def myage(self):\n",
    "        print(\"Age : \" + str(self.age))\n",
    "#fill data \n",
    "Student=data('Habiba',22)\n",
    "#call 2 func \n",
    "Student.myname()\n",
    "Student.myage()"
   ]
  },
  {
   "cell_type": "code",
   "execution_count": 23,
   "id": "ff100fad",
   "metadata": {},
   "outputs": [
    {
     "data": {
      "text/plain": [
       "9"
      ]
     },
     "execution_count": 23,
     "metadata": {},
     "output_type": "execute_result"
    }
   ],
   "source": [
    "#square num \n",
    "class squarenum(object):\n",
    "    #init func to define self's number \n",
    "    def __init__(self, number):\n",
    "        self.number = number\n",
    "    #func to return square num \n",
    "    def square(self):\n",
    "        return self.number**2\n",
    "#call class \n",
    "num=squarenum(3)\n",
    "#call fun\n",
    "num.square()"
   ]
  },
  {
   "cell_type": "code",
   "execution_count": null,
   "id": "b06a85d8",
   "metadata": {},
   "outputs": [],
   "source": []
  }
 ],
 "metadata": {
  "kernelspec": {
   "display_name": "Python 3 (ipykernel)",
   "language": "python",
   "name": "python3"
  },
  "language_info": {
   "codemirror_mode": {
    "name": "ipython",
    "version": 3
   },
   "file_extension": ".py",
   "mimetype": "text/x-python",
   "name": "python",
   "nbconvert_exporter": "python",
   "pygments_lexer": "ipython3",
   "version": "3.9.12"
  }
 },
 "nbformat": 4,
 "nbformat_minor": 5
}
